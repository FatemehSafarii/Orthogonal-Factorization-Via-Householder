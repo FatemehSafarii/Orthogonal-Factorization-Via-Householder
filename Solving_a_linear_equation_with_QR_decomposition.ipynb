{
  "nbformat": 4,
  "nbformat_minor": 0,
  "metadata": {
    "colab": {
      "provenance": [],
      "authorship_tag": "ABX9TyP3Z8NVc5EDQrhECnrJmxTC",
      "include_colab_link": true
    },
    "kernelspec": {
      "name": "python3",
      "display_name": "Python 3"
    },
    "language_info": {
      "name": "python"
    }
  },
  "cells": [
    {
      "cell_type": "markdown",
      "metadata": {
        "id": "view-in-github",
        "colab_type": "text"
      },
      "source": [
        "<a href=\"https://colab.research.google.com/github/FatemehSafarii/Orthogonal-Factorization-Via-Householder/blob/main/Solving_a_linear_equation_with_QR_decomposition.ipynb\" target=\"_parent\"><img src=\"https://colab.research.google.com/assets/colab-badge.svg\" alt=\"Open In Colab\"/></a>"
      ]
    },
    {
      "cell_type": "code",
      "source": [
        "#Solving a linear equation with QR decomposition\n",
        "import numpy as np\n",
        "\n",
        "def qr_decomposition(A, threshold=1e-10):\n",
        "    m, n = A.shape\n",
        "    Q = np.eye(m)\n",
        "    R = A.astype(float).copy()\n",
        "\n",
        "    for j in range(n):\n",
        "        x = R[j:, j]\n",
        "        e = np.zeros_like(x)\n",
        "        e[0] = np.sign(x[0] or 1)\n",
        "\n",
        "        u = x + np.linalg.norm(x) * e\n",
        "        u /= np.linalg.norm(u)\n",
        "\n",
        "        R[j:, :] -= 2.0 * np.outer(u, u @ R[j:, :])\n",
        "\n",
        "        # Set very small values in R to zero\n",
        "        R[np.abs(R) < threshold] = 0.0\n",
        "\n",
        "        Q[:, j:] -= 2.0 * Q[:, j:] @ np.outer(u, u)\n",
        "\n",
        "    # Set very small values in Q to zero\n",
        "    Q[np.abs(Q) < threshold] = 0.0\n",
        "\n",
        "    return Q, R\n",
        "\n",
        "def qr_solve(A, b):\n",
        "    Q, R = qr_decomposition(A)\n",
        "    n = R.shape[1]\n",
        "\n",
        "    # Solve for x using the least squares method\n",
        "    x = np.linalg.inv(R[:n, :]) @ Q.T[:n, :] @ b[:n]\n",
        "\n",
        "    return x\n",
        "\n",
        "# Example system of linear equations\n",
        "A = np.array([[2, 3, 1], [5, 1, 2], [2, 8, 1]])\n",
        "b = np.array([6, 8, 11])\n",
        "\n",
        "solution = qr_solve(A, b)\n",
        "print(\"Solution:\")\n",
        "print(solution)\n"
      ],
      "metadata": {
        "colab": {
          "base_uri": "https://localhost:8080/"
        },
        "id": "tex1MidsZqdP",
        "outputId": "26526897-3a61-4dc8-b8ba-333346af4726"
      },
      "execution_count": null,
      "outputs": [
        {
          "output_type": "stream",
          "name": "stdout",
          "text": [
            "Solution:\n",
            "[1. 1. 1.]\n"
          ]
        }
      ]
    }
  ]
}